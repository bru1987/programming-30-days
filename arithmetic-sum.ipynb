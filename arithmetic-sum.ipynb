{
 "cells": [
  {
   "cell_type": "markdown",
   "metadata": {},
   "source": [
    "## Problem #6"
   ]
  },
  {
   "cell_type": "markdown",
   "metadata": {},
   "source": [
    "Description of the problem"
   ]
  },
  {
   "cell_type": "markdown",
   "metadata": {},
   "source": [
    "### Solution #1"
   ]
  },
  {
   "cell_type": "markdown",
   "metadata": {},
   "source": [
    "There are several formulas to find the sum of an arithmetic series. Some of them are described below."
   ]
  },
  {
   "cell_type": "markdown",
   "metadata": {},
   "source": [
    "$$\\displaystyle S_n = \\frac{(u_1 + u_n) \\cdot n}{2}$$"
   ]
  },
  {
   "cell_type": "markdown",
   "metadata": {},
   "source": [
    "Some other variations of the formula can be found by isolating the number of terms on the formula of the generic term into the sum:"
   ]
  },
  {
   "cell_type": "markdown",
   "metadata": {},
   "source": [
    "$$u_n = u_1 + (n-1) \\cdot d \\quad \\Rightarrow \\quad d \\cdot (u_n - u_1) = n - 1 \\quad \\therefore \\quad n = \\frac{u_n - u_1}{d} + 1$$"
   ]
  },
  {
   "cell_type": "code",
   "execution_count": null,
   "metadata": {},
   "outputs": [],
   "source": [
    "Therefore we have a new formula for the sum of an arithmetic sequence that does not require knowing the number of terms:"
   ]
  },
  {
   "cell_type": "markdown",
   "metadata": {},
   "source": [
    "$$S_n = \\frac{(u_1 + u_n) \\cdot n}{2} = \\frac{(u_1 + u_n) \\cdot \\left( \\frac{u_n - u_1}{d} + 1 \\right)}{2} = \\frac{\\left( \\frac{u_n^2 - u_1^2}{d} \\right) + u_1 + u_n}{2}$$\n",
    "\n",
    "$$\\therefore \\quad S_n =  \\frac{u_n^2 - u_1^2 + d \\cdot (u_1 + u_n)}{2d}$$"
   ]
  },
  {
   "cell_type": "markdown",
   "metadata": {},
   "source": [
    "Sharing a Python code on a jupyter notebook:"
   ]
  },
  {
   "cell_type": "code",
   "execution_count": null,
   "metadata": {},
   "outputs": [],
   "source": []
  }
 ],
 "metadata": {
  "kernelspec": {
   "display_name": "Python 3",
   "language": "python",
   "name": "python3"
  },
  "language_info": {
   "codemirror_mode": {
    "name": "ipython",
    "version": 3
   },
   "file_extension": ".py",
   "mimetype": "text/x-python",
   "name": "python",
   "nbconvert_exporter": "python",
   "pygments_lexer": "ipython3",
   "version": "3.7.6"
  }
 },
 "nbformat": 4,
 "nbformat_minor": 4
}
